{
 "cells": [
  {
   "cell_type": "markdown",
   "metadata": {},
   "source": [
    "# Multiple Linear Regression - Predicting US Life Expectancy"
   ]
  },
  {
   "cell_type": "markdown",
   "metadata": {},
   "source": [
    "Given the sheer size of the features involved and for better interpretation for client, it might be worthy to narrow down the number of variables involved here. Below are some of the ways we can achieve this:\n",
    "\n",
    "- Baseline Method: Using all available variables [*Note this just creating a baseline model with no feature selection here*]\n",
    "- Naive Selection: using only features that are highly correlated to 'Life Expectancy' [*we used a 0.65 correlation threshold*]\n",
    "- Filter Method: dropping features with low variance followed by removing highly correlated features to solve for multicollinearity\n",
    "- Stepwise Selection: Adding only features with p-values below a set threshold of 0.01\n",
    "- Recursive Feature Elimination: sklearn's function of greedily choosing \n",
    "- L1 Regularisation  (Lasso): utilizing sklearn's GridSearch function to optimize for the best 'alpha' parameter which shrinks non-crucial coefficient values to zero hence allowing for feature selection \n",
    "\n",
    "Once we get all the features selected by each method above, we pass those into Statsmodel's OLS function. Subsequently, we will select our most prefferred model by comparing their validation's R2 scores, AIC (model complexity) and also consider the number of features included, which is the primary consideration here. \n",
    "\n",
    "Post model selection, we will then check if the chosen model satisfies the assumptions of a regression; no multicollinearity between selected features, homosceasticity and normality of errors. In the end, we shall evaluate the model if it fits the purpose for our final user.\n",
    "\n",
    "First let's import all the required libraries."
   ]
  },
  {
   "cell_type": "code",
   "execution_count": 1,
   "metadata": {},
   "outputs": [],
   "source": [
    "import pandas as pd\n",
    "import numpy as np\n",
    "\n",
    "import matplotlib.pyplot as plt\n",
    "import seaborn as sns\n",
    "import pylab\n",
    "import warnings\n",
    "\n",
    "from functions import *\n",
    "\n",
    "from sklearn.linear_model import LinearRegression, Lasso\n",
    "from sklearn.model_selection import train_test_split, cross_validate, cross_val_score, KFold, GridSearchCV\n",
    "from sklearn.metrics import r2_score\n",
    "from sklearn.feature_selection import VarianceThreshold, RFECV\n",
    "from sklearn.preprocessing import StandardScaler\n",
    "\n",
    "from statsmodels.regression.linear_model import OLS\n",
    "from statsmodels.tools import add_constant\n",
    "from statsmodels.stats.outliers_influence import variance_inflation_factor\n",
    "\n",
    "from scipy import stats\n",
    "\n",
    "sns.set_style('darkgrid')\n",
    "warnings.filterwarnings('ignore')\n",
    "pd.set_option('display.max_columns', None)\n",
    "\n",
    "%load_ext autoreload\n",
    "%autoreload 2"
   ]
  },
  {
   "cell_type": "markdown",
   "metadata": {},
   "source": [
    "Import the data which was previously cleaned in a seperate notebook."
   ]
  },
  {
   "cell_type": "code",
   "execution_count": 2,
   "metadata": {},
   "outputs": [
    {
     "name": "stdout",
     "output_type": "stream",
     "text": [
      "Number of rows: 3142\n",
      "Number of columns: 66\n"
     ]
    }
   ],
   "source": [
    "df_clean = pd.read_csv('data/clean_data.csv', index_col = [0])\n",
    "print ('Number of rows:', df_clean.shape[0])\n",
    "print ('Number of columns:', df_clean.shape[1])"
   ]
  },
  {
   "cell_type": "markdown",
   "metadata": {},
   "source": [
    "Now, let's drop both of the string columns 'State Abbreviation' and 'Name'. We then split the data into X feature and y target as the 'Life_expectancy'."
   ]
  },
  {
   "cell_type": "code",
   "execution_count": 3,
   "metadata": {},
   "outputs": [],
   "source": [
    "to_drop = ['State_Abbreviation', 'Name', 'Life_expectancy', 'Premature_age-adjusted_mortality', 'Premature_death', 'Injury_deaths', 'Teen_births']\n",
    "\n",
    "X = df_clean.drop(to_drop, axis = 1)\n",
    "y = df_clean['Life_expectancy']"
   ]
  },
  {
   "cell_type": "markdown",
   "metadata": {},
   "source": [
    "# Train-Validation-Test Split & Feature Scaling"
   ]
  },
  {
   "cell_type": "markdown",
   "metadata": {},
   "source": [
    "Split into training and testing dataset, setting the test size to 1000 samples and a random state of 1 to ensure reproducibility of data."
   ]
  },
  {
   "cell_type": "code",
   "execution_count": 4,
   "metadata": {},
   "outputs": [],
   "source": [
    "X_train, X_test, y_train, y_test = train_test_split(X, y, test_size = 1000, random_state = 1)"
   ]
  },
  {
   "cell_type": "markdown",
   "metadata": {},
   "source": [
    "Given one our end goal is to rank features, this is not possible as the features are on different unit scales. To enable comparison, let's standardized our dataset using Sklearn's Standard Scaler which transforms the data into its relevant Z-scores (ie. number of standard deviation away from the mean)."
   ]
  },
  {
   "cell_type": "code",
   "execution_count": 5,
   "metadata": {},
   "outputs": [],
   "source": [
    "scx = StandardScaler()\n",
    "scy = StandardScaler()\n",
    "\n",
    "X_train_scaled = pd.DataFrame(scx.fit_transform(X_train), columns = X_train.columns)\n",
    "X_test_scaled = pd.DataFrame(scx.transform(X_test), columns = X_test.columns)\n",
    "\n",
    "y_train_scaled = np.concatenate(scy.fit_transform(np.array(y_train).reshape(-1,1)))\n",
    "y_test_scaled = np.concatenate(scy.transform(np.array(y_test).reshape(-1,1)))"
   ]
  },
  {
   "cell_type": "markdown",
   "metadata": {},
   "source": [
    "Now we further split our training dataset on train - validation in order to test the performnce on each model that we will look to explore (which will be explored further below)"
   ]
  },
  {
   "cell_type": "code",
   "execution_count": 6,
   "metadata": {},
   "outputs": [
    {
     "data": {
      "text/plain": [
       "(1606, 536, 1000)"
      ]
     },
     "execution_count": 6,
     "metadata": {},
     "output_type": "execute_result"
    }
   ],
   "source": [
    "X_subset_train, X_subset_val, y_subset_train, y_subset_val = train_test_split(X_train_scaled, y_train_scaled, test_size = 0.25, random_state = 1)\n",
    "len(X_subset_train), len(X_subset_val), len(X_test)"
   ]
  },
  {
   "cell_type": "markdown",
   "metadata": {},
   "source": [
    "Finally ahead of running all the different methods, let's create a dataframe to store all method outcomes for better readability and comparison at every stage"
   ]
  },
  {
   "cell_type": "code",
   "execution_count": 7,
   "metadata": {},
   "outputs": [
    {
     "data": {
      "text/html": [
       "<div>\n",
       "<style scoped>\n",
       "    .dataframe tbody tr th:only-of-type {\n",
       "        vertical-align: middle;\n",
       "    }\n",
       "\n",
       "    .dataframe tbody tr th {\n",
       "        vertical-align: top;\n",
       "    }\n",
       "\n",
       "    .dataframe thead th {\n",
       "        text-align: right;\n",
       "    }\n",
       "</style>\n",
       "<table border=\"1\" class=\"dataframe\">\n",
       "  <thead>\n",
       "    <tr style=\"text-align: right;\">\n",
       "      <th></th>\n",
       "      <th>Linear_Regression_Models</th>\n",
       "      <th>Train_R2</th>\n",
       "      <th>CV_Avg_R2</th>\n",
       "      <th>Val_R2</th>\n",
       "      <th>AIC</th>\n",
       "      <th>n_features</th>\n",
       "      <th>&gt;0.05_pvalues</th>\n",
       "    </tr>\n",
       "  </thead>\n",
       "  <tbody>\n",
       "    <tr>\n",
       "      <th>0</th>\n",
       "      <td>Baseline</td>\n",
       "      <td>NaN</td>\n",
       "      <td>NaN</td>\n",
       "      <td>NaN</td>\n",
       "      <td>NaN</td>\n",
       "      <td>NaN</td>\n",
       "      <td>NaN</td>\n",
       "    </tr>\n",
       "    <tr>\n",
       "      <th>1</th>\n",
       "      <td>Naive - Top Correlation</td>\n",
       "      <td>NaN</td>\n",
       "      <td>NaN</td>\n",
       "      <td>NaN</td>\n",
       "      <td>NaN</td>\n",
       "      <td>NaN</td>\n",
       "      <td>NaN</td>\n",
       "    </tr>\n",
       "    <tr>\n",
       "      <th>2</th>\n",
       "      <td>Filter</td>\n",
       "      <td>NaN</td>\n",
       "      <td>NaN</td>\n",
       "      <td>NaN</td>\n",
       "      <td>NaN</td>\n",
       "      <td>NaN</td>\n",
       "      <td>NaN</td>\n",
       "    </tr>\n",
       "    <tr>\n",
       "      <th>3</th>\n",
       "      <td>RFE</td>\n",
       "      <td>NaN</td>\n",
       "      <td>NaN</td>\n",
       "      <td>NaN</td>\n",
       "      <td>NaN</td>\n",
       "      <td>NaN</td>\n",
       "      <td>NaN</td>\n",
       "    </tr>\n",
       "    <tr>\n",
       "      <th>4</th>\n",
       "      <td>Stepwise</td>\n",
       "      <td>NaN</td>\n",
       "      <td>NaN</td>\n",
       "      <td>NaN</td>\n",
       "      <td>NaN</td>\n",
       "      <td>NaN</td>\n",
       "      <td>NaN</td>\n",
       "    </tr>\n",
       "    <tr>\n",
       "      <th>5</th>\n",
       "      <td>Lasso</td>\n",
       "      <td>NaN</td>\n",
       "      <td>NaN</td>\n",
       "      <td>NaN</td>\n",
       "      <td>NaN</td>\n",
       "      <td>NaN</td>\n",
       "      <td>NaN</td>\n",
       "    </tr>\n",
       "  </tbody>\n",
       "</table>\n",
       "</div>"
      ],
      "text/plain": [
       "  Linear_Regression_Models Train_R2 CV_Avg_R2 Val_R2  AIC n_features  \\\n",
       "0                 Baseline      NaN       NaN    NaN  NaN        NaN   \n",
       "1  Naive - Top Correlation      NaN       NaN    NaN  NaN        NaN   \n",
       "2                   Filter      NaN       NaN    NaN  NaN        NaN   \n",
       "3                      RFE      NaN       NaN    NaN  NaN        NaN   \n",
       "4                 Stepwise      NaN       NaN    NaN  NaN        NaN   \n",
       "5                    Lasso      NaN       NaN    NaN  NaN        NaN   \n",
       "\n",
       "  >0.05_pvalues  \n",
       "0           NaN  \n",
       "1           NaN  \n",
       "2           NaN  \n",
       "3           NaN  \n",
       "4           NaN  \n",
       "5           NaN  "
      ]
     },
     "execution_count": 7,
     "metadata": {},
     "output_type": "execute_result"
    }
   ],
   "source": [
    "all_model_summary_df = pd.DataFrame([], \n",
    "                                    columns = ['Linear_Regression_Models', \n",
    "                                               'Train_R2', 'CV_Avg_R2', 'Val_R2', \n",
    "                                               'AIC', 'n_features', '>0.05_pvalues'])\n",
    "\n",
    "\n",
    "all_model_summary_df['Linear_Regression_Models'] = ['Baseline', 'Naive - Top Correlation',\n",
    "                                 'Filter', \n",
    "                                 'RFE', 'Stepwise',\n",
    "                                 'Lasso']\n",
    "\n",
    "all_model_summary_df"
   ]
  },
  {
   "cell_type": "markdown",
   "metadata": {},
   "source": [
    "## 1. Baseline - All available features\n",
    "\n",
    "Cool, we now start off by using all 63 z-scaled features to run the OLS model, followed by calculating all of the R2 scores, the AIC, number of features and number of features with p-values of more than 0.05."
   ]
  },
  {
   "cell_type": "code",
   "execution_count": 8,
   "metadata": {},
   "outputs": [],
   "source": [
    "linreg_baseline = LinearRegression()\n",
    "linreg_baseline_mean_score = round(np.mean(cross_val_score(linreg_baseline, X_subset_train, y_subset_train, cv = 5)), 3)"
   ]
  },
  {
   "cell_type": "code",
   "execution_count": 9,
   "metadata": {},
   "outputs": [
    {
     "name": "stdout",
     "output_type": "stream",
     "text": [
      "Baseline Train R-Squared: 0.754\n",
      "Baseline CV (5-Fold) Mean R-Squared: 0.727\n",
      "Baseline Validation Score R-Squared: 0.757\n"
     ]
    }
   ],
   "source": [
    "baseline_OLS = OLS(y_subset_train, add_constant(X_subset_train)).fit()\n",
    "\n",
    "baseline_predictions = baseline_OLS.predict(add_constant(X_subset_val))\n",
    "baseline_train_r2 = round(baseline_OLS.rsquared, 3)\n",
    "\n",
    "baseline_errors = y_subset_val - baseline_predictions\n",
    "baseline_val_r2 = round(r2_score(y_subset_val, baseline_predictions), 3)\n",
    "\n",
    "print ('Baseline Train R-Squared:', baseline_train_r2)\n",
    "print ('Baseline CV (5-Fold) Mean R-Squared:', linreg_baseline_mean_score)\n",
    "print ('Baseline Validation Score R-Squared:', baseline_val_r2)"
   ]
  },
  {
   "cell_type": "markdown",
   "metadata": {},
   "source": [
    "Without taking any further assumptions on this method, let's update our initial table."
   ]
  },
  {
   "cell_type": "code",
   "execution_count": 10,
   "metadata": {},
   "outputs": [],
   "source": [
    "update_model(all_model_summary_df, 'Baseline', baseline_OLS, [baseline_train_r2, linreg_baseline_mean_score, baseline_val_r2])"
   ]
  },
  {
   "cell_type": "code",
   "execution_count": 11,
   "metadata": {},
   "outputs": [
    {
     "data": {
      "text/html": [
       "<div>\n",
       "<style scoped>\n",
       "    .dataframe tbody tr th:only-of-type {\n",
       "        vertical-align: middle;\n",
       "    }\n",
       "\n",
       "    .dataframe tbody tr th {\n",
       "        vertical-align: top;\n",
       "    }\n",
       "\n",
       "    .dataframe thead th {\n",
       "        text-align: right;\n",
       "    }\n",
       "</style>\n",
       "<table border=\"1\" class=\"dataframe\">\n",
       "  <thead>\n",
       "    <tr style=\"text-align: right;\">\n",
       "      <th></th>\n",
       "      <th>Linear_Regression_Models</th>\n",
       "      <th>Train_R2</th>\n",
       "      <th>CV_Avg_R2</th>\n",
       "      <th>Val_R2</th>\n",
       "      <th>AIC</th>\n",
       "      <th>n_features</th>\n",
       "      <th>&gt;0.05_pvalues</th>\n",
       "    </tr>\n",
       "  </thead>\n",
       "  <tbody>\n",
       "    <tr>\n",
       "      <th>0</th>\n",
       "      <td>Baseline</td>\n",
       "      <td>0.754</td>\n",
       "      <td>0.727</td>\n",
       "      <td>0.757</td>\n",
       "      <td>2352</td>\n",
       "      <td>60</td>\n",
       "      <td>32</td>\n",
       "    </tr>\n",
       "    <tr>\n",
       "      <th>1</th>\n",
       "      <td>Naive - Top Correlation</td>\n",
       "      <td>NaN</td>\n",
       "      <td>NaN</td>\n",
       "      <td>NaN</td>\n",
       "      <td>NaN</td>\n",
       "      <td>NaN</td>\n",
       "      <td>NaN</td>\n",
       "    </tr>\n",
       "    <tr>\n",
       "      <th>2</th>\n",
       "      <td>Filter</td>\n",
       "      <td>NaN</td>\n",
       "      <td>NaN</td>\n",
       "      <td>NaN</td>\n",
       "      <td>NaN</td>\n",
       "      <td>NaN</td>\n",
       "      <td>NaN</td>\n",
       "    </tr>\n",
       "    <tr>\n",
       "      <th>3</th>\n",
       "      <td>RFE</td>\n",
       "      <td>NaN</td>\n",
       "      <td>NaN</td>\n",
       "      <td>NaN</td>\n",
       "      <td>NaN</td>\n",
       "      <td>NaN</td>\n",
       "      <td>NaN</td>\n",
       "    </tr>\n",
       "    <tr>\n",
       "      <th>4</th>\n",
       "      <td>Stepwise</td>\n",
       "      <td>NaN</td>\n",
       "      <td>NaN</td>\n",
       "      <td>NaN</td>\n",
       "      <td>NaN</td>\n",
       "      <td>NaN</td>\n",
       "      <td>NaN</td>\n",
       "    </tr>\n",
       "    <tr>\n",
       "      <th>5</th>\n",
       "      <td>Lasso</td>\n",
       "      <td>NaN</td>\n",
       "      <td>NaN</td>\n",
       "      <td>NaN</td>\n",
       "      <td>NaN</td>\n",
       "      <td>NaN</td>\n",
       "      <td>NaN</td>\n",
       "    </tr>\n",
       "  </tbody>\n",
       "</table>\n",
       "</div>"
      ],
      "text/plain": [
       "  Linear_Regression_Models Train_R2 CV_Avg_R2 Val_R2   AIC n_features  \\\n",
       "0                 Baseline    0.754     0.727  0.757  2352         60   \n",
       "1  Naive - Top Correlation      NaN       NaN    NaN   NaN        NaN   \n",
       "2                   Filter      NaN       NaN    NaN   NaN        NaN   \n",
       "3                      RFE      NaN       NaN    NaN   NaN        NaN   \n",
       "4                 Stepwise      NaN       NaN    NaN   NaN        NaN   \n",
       "5                    Lasso      NaN       NaN    NaN   NaN        NaN   \n",
       "\n",
       "  >0.05_pvalues  \n",
       "0            32  \n",
       "1           NaN  \n",
       "2           NaN  \n",
       "3           NaN  \n",
       "4           NaN  \n",
       "5           NaN  "
      ]
     },
     "execution_count": 11,
     "metadata": {},
     "output_type": "execute_result"
    }
   ],
   "source": [
    "all_model_summary_df"
   ]
  },
  {
   "cell_type": "markdown",
   "metadata": {},
   "source": [
    "## 2. Naive Selection - Subset of features with highest correlation to Life Expectancy\n",
    "\n",
    "Given we've 'blindly' included all features in the baseline model, let's try and narrow these down to only include features which are highly correlated with our target variabe, 'Life Expectancy'. First, we initiated a correlation matrix and set our target correlation threshold to 0.65."
   ]
  },
  {
   "cell_type": "code",
   "execution_count": 12,
   "metadata": {},
   "outputs": [
    {
     "data": {
      "text/plain": [
       "Poor_physical_health_days     0.669422\n",
       "Adult_smoking                 0.704446\n",
       "Children_in_poverty           0.655710\n",
       "Frequent_physical_distress    0.674744\n",
       "Frequent_mental_distress      0.696789\n",
       "dtype: float64"
      ]
     },
     "execution_count": 12,
     "metadata": {},
     "output_type": "execute_result"
    }
   ],
   "source": [
    "target_correlation_threshold = 0.65\n",
    "\n",
    "absolute_correlation = abs(X_train.corrwith(y_train))\n",
    "final = absolute_correlation[absolute_correlation > 0.65]\n",
    "final"
   ]
  },
  {
   "cell_type": "markdown",
   "metadata": {},
   "source": [
    "Using a 0.65 threshold, we've narrowed down from 64 to 8 features. Using these 8 features, let's create another OLS model and evaluate its performance."
   ]
  },
  {
   "cell_type": "code",
   "execution_count": 13,
   "metadata": {},
   "outputs": [],
   "source": [
    "linreg_naive = LinearRegression()\n",
    "linreg_naive_mean_score = round(np.mean(cross_val_score(linreg_naive, \n",
    "                                                        X_train_scaled[final.index], \n",
    "                                                        y_train_scaled, cv = 5)), 3)"
   ]
  },
  {
   "cell_type": "code",
   "execution_count": 14,
   "metadata": {},
   "outputs": [
    {
     "name": "stdout",
     "output_type": "stream",
     "text": [
      "Naive Train R-Squared: 0.579\n",
      "Naive CV (5-Fold) Score R-Squared: 0.574\n",
      "Naive Validation Score R-Squared: 0.637\n"
     ]
    }
   ],
   "source": [
    "naive_OLS = OLS(y_train_scaled, add_constant(X_train_scaled[final.index])).fit()\n",
    "\n",
    "naive_predictions = naive_OLS.predict(add_constant(X_subset_val[final.index]))\n",
    "naive_train_r2 = round(naive_OLS.rsquared, 3)\n",
    "\n",
    "naive_errors = y_subset_val - naive_predictions\n",
    "naive_val_r2 = round(r2_score(y_subset_val, naive_predictions), 3)\n",
    "\n",
    "print ('Naive Train R-Squared:', naive_train_r2)\n",
    "print ('Naive CV (5-Fold) Score R-Squared:', linreg_naive_mean_score)\n",
    "print ('Naive Validation Score R-Squared:', naive_val_r2)"
   ]
  },
  {
   "cell_type": "code",
   "execution_count": 15,
   "metadata": {},
   "outputs": [],
   "source": [
    "update_model(all_model_summary_df, 'Naive - Top Correlation', naive_OLS, [naive_train_r2, linreg_naive_mean_score, naive_val_r2])"
   ]
  },
  {
   "cell_type": "code",
   "execution_count": 16,
   "metadata": {},
   "outputs": [
    {
     "data": {
      "text/html": [
       "<div>\n",
       "<style scoped>\n",
       "    .dataframe tbody tr th:only-of-type {\n",
       "        vertical-align: middle;\n",
       "    }\n",
       "\n",
       "    .dataframe tbody tr th {\n",
       "        vertical-align: top;\n",
       "    }\n",
       "\n",
       "    .dataframe thead th {\n",
       "        text-align: right;\n",
       "    }\n",
       "</style>\n",
       "<table border=\"1\" class=\"dataframe\">\n",
       "  <thead>\n",
       "    <tr style=\"text-align: right;\">\n",
       "      <th></th>\n",
       "      <th>Linear_Regression_Models</th>\n",
       "      <th>Train_R2</th>\n",
       "      <th>CV_Avg_R2</th>\n",
       "      <th>Val_R2</th>\n",
       "      <th>AIC</th>\n",
       "      <th>n_features</th>\n",
       "      <th>&gt;0.05_pvalues</th>\n",
       "    </tr>\n",
       "  </thead>\n",
       "  <tbody>\n",
       "    <tr>\n",
       "      <th>0</th>\n",
       "      <td>Baseline</td>\n",
       "      <td>0.754</td>\n",
       "      <td>0.727</td>\n",
       "      <td>0.757</td>\n",
       "      <td>2352</td>\n",
       "      <td>60</td>\n",
       "      <td>32</td>\n",
       "    </tr>\n",
       "    <tr>\n",
       "      <th>1</th>\n",
       "      <td>Naive - Top Correlation</td>\n",
       "      <td>0.579</td>\n",
       "      <td>0.574</td>\n",
       "      <td>0.637</td>\n",
       "      <td>4238</td>\n",
       "      <td>6</td>\n",
       "      <td>1</td>\n",
       "    </tr>\n",
       "    <tr>\n",
       "      <th>2</th>\n",
       "      <td>Filter</td>\n",
       "      <td>NaN</td>\n",
       "      <td>NaN</td>\n",
       "      <td>NaN</td>\n",
       "      <td>NaN</td>\n",
       "      <td>NaN</td>\n",
       "      <td>NaN</td>\n",
       "    </tr>\n",
       "    <tr>\n",
       "      <th>3</th>\n",
       "      <td>RFE</td>\n",
       "      <td>NaN</td>\n",
       "      <td>NaN</td>\n",
       "      <td>NaN</td>\n",
       "      <td>NaN</td>\n",
       "      <td>NaN</td>\n",
       "      <td>NaN</td>\n",
       "    </tr>\n",
       "    <tr>\n",
       "      <th>4</th>\n",
       "      <td>Stepwise</td>\n",
       "      <td>NaN</td>\n",
       "      <td>NaN</td>\n",
       "      <td>NaN</td>\n",
       "      <td>NaN</td>\n",
       "      <td>NaN</td>\n",
       "      <td>NaN</td>\n",
       "    </tr>\n",
       "    <tr>\n",
       "      <th>5</th>\n",
       "      <td>Lasso</td>\n",
       "      <td>NaN</td>\n",
       "      <td>NaN</td>\n",
       "      <td>NaN</td>\n",
       "      <td>NaN</td>\n",
       "      <td>NaN</td>\n",
       "      <td>NaN</td>\n",
       "    </tr>\n",
       "  </tbody>\n",
       "</table>\n",
       "</div>"
      ],
      "text/plain": [
       "  Linear_Regression_Models Train_R2 CV_Avg_R2 Val_R2   AIC n_features  \\\n",
       "0                 Baseline    0.754     0.727  0.757  2352         60   \n",
       "1  Naive - Top Correlation    0.579     0.574  0.637  4238          6   \n",
       "2                   Filter      NaN       NaN    NaN   NaN        NaN   \n",
       "3                      RFE      NaN       NaN    NaN   NaN        NaN   \n",
       "4                 Stepwise      NaN       NaN    NaN   NaN        NaN   \n",
       "5                    Lasso      NaN       NaN    NaN   NaN        NaN   \n",
       "\n",
       "  >0.05_pvalues  \n",
       "0            32  \n",
       "1             1  \n",
       "2           NaN  \n",
       "3           NaN  \n",
       "4           NaN  \n",
       "5           NaN  "
      ]
     },
     "execution_count": 16,
     "metadata": {},
     "output_type": "execute_result"
    }
   ],
   "source": [
    "all_model_summary_df"
   ]
  },
  {
   "cell_type": "markdown",
   "metadata": {},
   "source": [
    "Just by using the 5 (6 with constant) top correlated features, we get almost similar results to our Baseline model!"
   ]
  },
  {
   "cell_type": "markdown",
   "metadata": {},
   "source": [
    "## 3. Filter - drop features with no / low variance & high correlation with other features\n",
    "\n",
    "One of the pitfalls of the above methods is that we might have potentially ignored other useful features that might be of use to our final user. \n",
    "\n",
    "Coupled with the above, the previously contemplated model might include various highly correlated features, violating the assumptions of a regression model. As such, let's try out best to find a middle ground by using by:\n",
    "\n",
    "- dropping features with no or low variance. These features typically do not add much predictive value in a model\n",
    "- dropping features which are highly correlated\n",
    "\n",
    "Let's start of by dropping features with no or low variance. We can utilize Sklearn's 'variance_threshold' tool to solve this."
   ]
  },
  {
   "cell_type": "code",
   "execution_count": 17,
   "metadata": {},
   "outputs": [
    {
     "name": "stdout",
     "output_type": "stream",
     "text": [
      "Number of low variance features: 1\n",
      "Low variance features: ['Release_Year']\n"
     ]
    }
   ],
   "source": [
    "variance_threshold = 0.00\n",
    "\n",
    "low_var_filter = VarianceThreshold(threshold = variance_threshold).fit(X_train_scaled)\n",
    "\n",
    "dropped_cols = X_train_scaled.columns[low_var_filter.get_support() == False]\n",
    "print ('Number of low variance features:', len(dropped_cols))\n",
    "print ('Low variance features:', list(dropped_cols))"
   ]
  },
  {
   "cell_type": "code",
   "execution_count": 18,
   "metadata": {},
   "outputs": [],
   "source": [
    "High_Var_Features = X_train_scaled.drop(dropped_cols, axis = 1)"
   ]
  },
  {
   "cell_type": "markdown",
   "metadata": {},
   "source": [
    "Next, let's further narrow down features by excluding highly correlated features. We have defined this as those with pearson's r of > 0.6."
   ]
  },
  {
   "cell_type": "code",
   "execution_count": 19,
   "metadata": {},
   "outputs": [
    {
     "name": "stdout",
     "output_type": "stream",
     "text": [
      "Number of features to drop: 21\n",
      "Features to drop: \n",
      " ['Frequent_mental_distress', 'Uninsured_adults', 'Children_in_poverty', 'Poor_mental_health_days', 'Frequent_physical_distress', 'Insufficient_sleep', 'Some_college', 'Median_household_income', 'Percentage_of_households_with_overcrowding', 'Adult_smoking', 'Uninsured_children', 'Percentage_of_households_with_high_housing_costs', 'Poor_physical_health_days', 'Diabetes_prevalence', 'Limited_access_to_healthy_foods', 'Children_in_single-parent_households', 'Excessive_drinking', 'Children_eligible_for_free_or_reduced_price_lunch', 'Physical_inactivity', 'Food_insecurity', 'Severe_housing_cost_burden']\n"
     ]
    }
   ],
   "source": [
    "corr_matrix = High_Var_Features.corr()\n",
    "correlated_features = set()\n",
    "\n",
    "corr_threshold = 0.6\n",
    "\n",
    "for i in range(len(corr_matrix.columns)):\n",
    "    for j in range(i):\n",
    "        if abs(corr_matrix.iloc[i, j]) > corr_threshold:\n",
    "            colname = corr_matrix.columns[i]\n",
    "            correlated_features.add(colname)\n",
    "\n",
    "correlated_features\n",
    "print ('Number of features to drop:', len(correlated_features))\n",
    "print ('Features to drop: \\n', list(correlated_features))"
   ]
  },
  {
   "cell_type": "code",
   "execution_count": 20,
   "metadata": {},
   "outputs": [],
   "source": [
    "High_Var_Features_Low_Corr = High_Var_Features.drop(list(correlated_features), axis = 1)"
   ]
  },
  {
   "cell_type": "code",
   "execution_count": 21,
   "metadata": {},
   "outputs": [],
   "source": [
    "linreg_filter = LinearRegression()\n",
    "linreg_filter_mean_score = round(np.mean(cross_val_score(linreg_filter, \n",
    "                                                        X_train_scaled[High_Var_Features_Low_Corr.columns], \n",
    "                                                        y_train_scaled, cv = 5)), 3)"
   ]
  },
  {
   "cell_type": "code",
   "execution_count": 22,
   "metadata": {},
   "outputs": [],
   "source": [
    "filter_OLS = OLS(y_train_scaled, add_constant(X_train_scaled[High_Var_Features_Low_Corr.columns])).fit()\n",
    "\n",
    "filter_predictions = filter_OLS.predict(add_constant(X_subset_val[High_Var_Features_Low_Corr.columns]))\n",
    "filter_train_r2 = round(filter_OLS.rsquared, 3)\n",
    "\n",
    "filter_errors = y_subset_val - filter_predictions\n",
    "filter_val_r2 = round(r2_score(y_subset_val, filter_predictions), 3)"
   ]
  },
  {
   "cell_type": "code",
   "execution_count": 23,
   "metadata": {},
   "outputs": [
    {
     "name": "stdout",
     "output_type": "stream",
     "text": [
      "Filter Train R-Squared: 0.705\n",
      "Filter CV (5-Fold) Score R-Squared: 0.68\n",
      "Filter Validation Score R-Squared: 0.73\n"
     ]
    }
   ],
   "source": [
    "print ('Filter Train R-Squared:', filter_train_r2)\n",
    "print ('Filter CV (5-Fold) Score R-Squared:', linreg_filter_mean_score)\n",
    "print ('Filter Validation Score R-Squared:', filter_val_r2)"
   ]
  },
  {
   "cell_type": "code",
   "execution_count": 24,
   "metadata": {},
   "outputs": [],
   "source": [
    "update_model(all_model_summary_df, 'Filter', filter_OLS, [filter_train_r2, linreg_filter_mean_score, filter_val_r2])"
   ]
  },
  {
   "cell_type": "code",
   "execution_count": 25,
   "metadata": {},
   "outputs": [
    {
     "data": {
      "text/html": [
       "<div>\n",
       "<style scoped>\n",
       "    .dataframe tbody tr th:only-of-type {\n",
       "        vertical-align: middle;\n",
       "    }\n",
       "\n",
       "    .dataframe tbody tr th {\n",
       "        vertical-align: top;\n",
       "    }\n",
       "\n",
       "    .dataframe thead th {\n",
       "        text-align: right;\n",
       "    }\n",
       "</style>\n",
       "<table border=\"1\" class=\"dataframe\">\n",
       "  <thead>\n",
       "    <tr style=\"text-align: right;\">\n",
       "      <th></th>\n",
       "      <th>Linear_Regression_Models</th>\n",
       "      <th>Train_R2</th>\n",
       "      <th>CV_Avg_R2</th>\n",
       "      <th>Val_R2</th>\n",
       "      <th>AIC</th>\n",
       "      <th>n_features</th>\n",
       "      <th>&gt;0.05_pvalues</th>\n",
       "    </tr>\n",
       "  </thead>\n",
       "  <tbody>\n",
       "    <tr>\n",
       "      <th>0</th>\n",
       "      <td>Baseline</td>\n",
       "      <td>0.754</td>\n",
       "      <td>0.727</td>\n",
       "      <td>0.757</td>\n",
       "      <td>2352</td>\n",
       "      <td>60</td>\n",
       "      <td>32</td>\n",
       "    </tr>\n",
       "    <tr>\n",
       "      <th>1</th>\n",
       "      <td>Naive - Top Correlation</td>\n",
       "      <td>0.579</td>\n",
       "      <td>0.574</td>\n",
       "      <td>0.637</td>\n",
       "      <td>4238</td>\n",
       "      <td>6</td>\n",
       "      <td>1</td>\n",
       "    </tr>\n",
       "    <tr>\n",
       "      <th>2</th>\n",
       "      <td>Filter</td>\n",
       "      <td>0.705</td>\n",
       "      <td>0.68</td>\n",
       "      <td>0.73</td>\n",
       "      <td>3539</td>\n",
       "      <td>38</td>\n",
       "      <td>17</td>\n",
       "    </tr>\n",
       "    <tr>\n",
       "      <th>3</th>\n",
       "      <td>RFE</td>\n",
       "      <td>NaN</td>\n",
       "      <td>NaN</td>\n",
       "      <td>NaN</td>\n",
       "      <td>NaN</td>\n",
       "      <td>NaN</td>\n",
       "      <td>NaN</td>\n",
       "    </tr>\n",
       "    <tr>\n",
       "      <th>4</th>\n",
       "      <td>Stepwise</td>\n",
       "      <td>NaN</td>\n",
       "      <td>NaN</td>\n",
       "      <td>NaN</td>\n",
       "      <td>NaN</td>\n",
       "      <td>NaN</td>\n",
       "      <td>NaN</td>\n",
       "    </tr>\n",
       "    <tr>\n",
       "      <th>5</th>\n",
       "      <td>Lasso</td>\n",
       "      <td>NaN</td>\n",
       "      <td>NaN</td>\n",
       "      <td>NaN</td>\n",
       "      <td>NaN</td>\n",
       "      <td>NaN</td>\n",
       "      <td>NaN</td>\n",
       "    </tr>\n",
       "  </tbody>\n",
       "</table>\n",
       "</div>"
      ],
      "text/plain": [
       "  Linear_Regression_Models Train_R2 CV_Avg_R2 Val_R2   AIC n_features  \\\n",
       "0                 Baseline    0.754     0.727  0.757  2352         60   \n",
       "1  Naive - Top Correlation    0.579     0.574  0.637  4238          6   \n",
       "2                   Filter    0.705      0.68   0.73  3539         38   \n",
       "3                      RFE      NaN       NaN    NaN   NaN        NaN   \n",
       "4                 Stepwise      NaN       NaN    NaN   NaN        NaN   \n",
       "5                    Lasso      NaN       NaN    NaN   NaN        NaN   \n",
       "\n",
       "  >0.05_pvalues  \n",
       "0            32  \n",
       "1             1  \n",
       "2            17  \n",
       "3           NaN  \n",
       "4           NaN  \n",
       "5           NaN  "
      ]
     },
     "execution_count": 25,
     "metadata": {},
     "output_type": "execute_result"
    }
   ],
   "source": [
    "all_model_summary_df"
   ]
  },
  {
   "cell_type": "markdown",
   "metadata": {},
   "source": [
    "Looks like the filter method performs on a less satisfactory basis across test accuracy, model complexity and the higher number of features (which still might be overwhelming for our end user!)"
   ]
  },
  {
   "cell_type": "markdown",
   "metadata": {},
   "source": [
    "## 4. Wrapper - Recursive Feature Elimination"
   ]
  },
  {
   "cell_type": "code",
   "execution_count": 26,
   "metadata": {},
   "outputs": [
    {
     "data": {
      "text/plain": [
       "RFECV(cv=5,\n",
       "      estimator=LinearRegression(copy_X=True, fit_intercept=True, n_jobs=None,\n",
       "                                 normalize=False),\n",
       "      min_features_to_select=1, n_jobs=None, scoring='r2', step=1, verbose=0)"
      ]
     },
     "execution_count": 26,
     "metadata": {},
     "output_type": "execute_result"
    }
   ],
   "source": [
    "linreg = LinearRegression()\n",
    "rfecv = RFECV(linreg, step = 1, scoring='r2', cv=5)\n",
    "rfecv.fit(X_train_scaled, y_train_scaled)"
   ]
  },
  {
   "cell_type": "code",
   "execution_count": 27,
   "metadata": {},
   "outputs": [
    {
     "data": {
      "image/png": "[encoded data removed]",
      "text/plain": [
       "<Figure size 1080x576 with 1 Axes>"
      ]
     },
     "metadata": {
      "needs_background": "light"
     },
     "output_type": "display_data"
    }
   ],
   "source": [
    "plt.figure(figsize=(15, 8))\n",
    "plt.plot(range(1, len(rfecv.grid_scores_) + 1), rfecv.grid_scores_)\n",
    "plt.axvline(rfecv.n_features_, linestyle = ':', color = 'black')\n",
    "plt.xlabel('Number of Features')\n",
    "plt.ylabel('R2 CV score')\n",
    "plt.show()"
   ]
  },
  {
   "cell_type": "code",
   "execution_count": 28,
   "metadata": {},
   "outputs": [],
   "source": [
    "RFE_columns = X_train_scaled.columns[rfecv.get_support()]"
   ]
  },
  {
   "cell_type": "code",
   "execution_count": 29,
   "metadata": {},
   "outputs": [],
   "source": [
    "linreg_RFE = LinearRegression()\n",
    "linreg_RFE_mean_score = round(np.mean(cross_val_score(linreg_RFE, \n",
    "                                                        X_train_scaled[RFE_columns], \n",
    "                                                        y_train_scaled, cv = 5)), 3)"
   ]
  },
  {
   "cell_type": "code",
   "execution_count": 30,
   "metadata": {},
   "outputs": [],
   "source": [
    "RFE_OLS = OLS(y_train_scaled, add_constant(X_train_scaled[RFE_columns])).fit()\n",
    "\n",
    "RFE_predictions = RFE_OLS.predict(add_constant(X_subset_val[RFE_columns]))\n",
    "RFE_train_r2 = round(RFE_OLS.rsquared, 3)\n",
    "\n",
    "RFE_errors = y_subset_val - RFE_predictions\n",
    "RFE_val_r2 = round(r2_score(y_subset_val, RFE_predictions), 3)"
   ]
  },
  {
   "cell_type": "code",
   "execution_count": 31,
   "metadata": {},
   "outputs": [
    {
     "name": "stdout",
     "output_type": "stream",
     "text": [
      "RFE Train R-Squared: 0.76\n",
      "RFE CV (5-Fold) Score R-Squared: 0.725\n",
      "RFE Validation Score R-Squared: 0.78\n"
     ]
    }
   ],
   "source": [
    "print ('RFE Train R-Squared:', round(RFE_train_r2, 2))\n",
    "print ('RFE CV (5-Fold) Score R-Squared:', linreg_RFE_mean_score)\n",
    "print ('RFE Validation Score R-Squared:', RFE_val_r2)"
   ]
  },
  {
   "cell_type": "code",
   "execution_count": 32,
   "metadata": {},
   "outputs": [],
   "source": [
    "update_model(all_model_summary_df, 'RFE', RFE_OLS, [RFE_train_r2, linreg_RFE_mean_score, RFE_val_r2])"
   ]
  },
  {
   "cell_type": "code",
   "execution_count": 33,
   "metadata": {},
   "outputs": [
    {
     "data": {
      "text/html": [
       "<div>\n",
       "<style scoped>\n",
       "    .dataframe tbody tr th:only-of-type {\n",
       "        vertical-align: middle;\n",
       "    }\n",
       "\n",
       "    .dataframe tbody tr th {\n",
       "        vertical-align: top;\n",
       "    }\n",
       "\n",
       "    .dataframe thead th {\n",
       "        text-align: right;\n",
       "    }\n",
       "</style>\n",
       "<table border=\"1\" class=\"dataframe\">\n",
       "  <thead>\n",
       "    <tr style=\"text-align: right;\">\n",
       "      <th></th>\n",
       "      <th>Linear_Regression_Models</th>\n",
       "      <th>Train_R2</th>\n",
       "      <th>CV_Avg_R2</th>\n",
       "      <th>Val_R2</th>\n",
       "      <th>AIC</th>\n",
       "      <th>n_features</th>\n",
       "      <th>&gt;0.05_pvalues</th>\n",
       "    </tr>\n",
       "  </thead>\n",
       "  <tbody>\n",
       "    <tr>\n",
       "      <th>0</th>\n",
       "      <td>Baseline</td>\n",
       "      <td>0.754</td>\n",
       "      <td>0.727</td>\n",
       "      <td>0.757</td>\n",
       "      <td>2352</td>\n",
       "      <td>60</td>\n",
       "      <td>32</td>\n",
       "    </tr>\n",
       "    <tr>\n",
       "      <th>1</th>\n",
       "      <td>Naive - Top Correlation</td>\n",
       "      <td>0.579</td>\n",
       "      <td>0.574</td>\n",
       "      <td>0.637</td>\n",
       "      <td>4238</td>\n",
       "      <td>6</td>\n",
       "      <td>1</td>\n",
       "    </tr>\n",
       "    <tr>\n",
       "      <th>2</th>\n",
       "      <td>Filter</td>\n",
       "      <td>0.705</td>\n",
       "      <td>0.68</td>\n",
       "      <td>0.73</td>\n",
       "      <td>3539</td>\n",
       "      <td>38</td>\n",
       "      <td>17</td>\n",
       "    </tr>\n",
       "    <tr>\n",
       "      <th>3</th>\n",
       "      <td>RFE</td>\n",
       "      <td>0.759</td>\n",
       "      <td>0.725</td>\n",
       "      <td>0.78</td>\n",
       "      <td>3153</td>\n",
       "      <td>59</td>\n",
       "      <td>26</td>\n",
       "    </tr>\n",
       "    <tr>\n",
       "      <th>4</th>\n",
       "      <td>Stepwise</td>\n",
       "      <td>NaN</td>\n",
       "      <td>NaN</td>\n",
       "      <td>NaN</td>\n",
       "      <td>NaN</td>\n",
       "      <td>NaN</td>\n",
       "      <td>NaN</td>\n",
       "    </tr>\n",
       "    <tr>\n",
       "      <th>5</th>\n",
       "      <td>Lasso</td>\n",
       "      <td>NaN</td>\n",
       "      <td>NaN</td>\n",
       "      <td>NaN</td>\n",
       "      <td>NaN</td>\n",
       "      <td>NaN</td>\n",
       "      <td>NaN</td>\n",
       "    </tr>\n",
       "  </tbody>\n",
       "</table>\n",
       "</div>"
      ],
      "text/plain": [
       "  Linear_Regression_Models Train_R2 CV_Avg_R2 Val_R2   AIC n_features  \\\n",
       "0                 Baseline    0.754     0.727  0.757  2352         60   \n",
       "1  Naive - Top Correlation    0.579     0.574  0.637  4238          6   \n",
       "2                   Filter    0.705      0.68   0.73  3539         38   \n",
       "3                      RFE    0.759     0.725   0.78  3153         59   \n",
       "4                 Stepwise      NaN       NaN    NaN   NaN        NaN   \n",
       "5                    Lasso      NaN       NaN    NaN   NaN        NaN   \n",
       "\n",
       "  >0.05_pvalues  \n",
       "0            32  \n",
       "1             1  \n",
       "2            17  \n",
       "3            26  \n",
       "4           NaN  \n",
       "5           NaN  "
      ]
     },
     "execution_count": 33,
     "metadata": {},
     "output_type": "execute_result"
    }
   ],
   "source": [
    "all_model_summary_df"
   ]
  },
  {
   "cell_type": "markdown",
   "metadata": {},
   "source": [
    "This looks slightly better than the filter method however the number of features still remains an issue here."
   ]
  },
  {
   "cell_type": "markdown",
   "metadata": {},
   "source": [
    "## 5. Stepwise Selection - Combination of Forward and Backward feature selection"
   ]
  },
  {
   "cell_type": "code",
   "execution_count": 34,
   "metadata": {},
   "outputs": [
    {
     "name": "stdout",
     "output_type": "stream",
     "text": [
      "Add  Adult_smoking                  with p-value 5.81021e-321\n",
      "Add  Motor_vehicle_crash_deaths     with p-value 2.11995e-78\n",
      "Add  Diabetes_prevalence            with p-value 2.0161e-45\n",
      "Add  Food_insecurity                with p-value 6.9244e-25\n",
      "Add  Drug_overdose_deaths           with p-value 2.34207e-27\n",
      "Add  Driving_alone_to_work          with p-value 5.15837e-21\n",
      "Add  Sexually_transmitted_infections with p-value 1.79051e-20\n",
      "Add  Median_household_income        with p-value 9.70623e-17\n",
      "Add  Child_mortality                with p-value 7.24309e-11\n",
      "Add  Firearm_fatalities             with p-value 1.33178e-08\n",
      "Add  Air_pollution_-_particulate_matter with p-value 5.03898e-08\n",
      "Add  %_not_proficient_in_English    with p-value 6.35978e-08\n",
      "Add  Percentage_of_households_with_overcrowding with p-value 1.79326e-13\n",
      "Add  %_Rural                        with p-value 1.74222e-09\n",
      "Drop Food_insecurity                with p-value 0.33006\n",
      "Add  Mammography_screening          with p-value 4.21286e-11\n",
      "Add  Preventable_hospital_stays     with p-value 2.22017e-06\n",
      "Add  Children_eligible_for_free_or_reduced_price_lunch with p-value 6.90092e-06\n",
      "Add  Other_primary_care_providers   with p-value 9.81965e-06\n",
      "Add  Physical_inactivity            with p-value 5.57483e-06\n",
      "Add  County_Ranked_(Yes=1/No=0)     with p-value 0.0015903\n",
      "Add  %_Females                      with p-value 0.00262958\n",
      "Add  Some_college                   with p-value 8.42304e-05\n",
      "Drop Diabetes_prevalence            with p-value 0.109041\n"
     ]
    }
   ],
   "source": [
    "stepwise_columns = stepwise_selection(X_train_scaled, y_train_scaled, threshold_in = 0.01, verbose=True)"
   ]
  },
  {
   "cell_type": "code",
   "execution_count": 35,
   "metadata": {},
   "outputs": [
    {
     "name": "stdout",
     "output_type": "stream",
     "text": [
      "Number of stepwise columns: 20\n"
     ]
    }
   ],
   "source": [
    "print ('Number of stepwise columns:', len(stepwise_columns))"
   ]
  },
  {
   "cell_type": "code",
   "execution_count": 36,
   "metadata": {},
   "outputs": [],
   "source": [
    "linreg_stepwise = LinearRegression()\n",
    "linreg_stepwise_mean_score = round(np.mean(cross_val_score(linreg_stepwise, \n",
    "                                                        X_train_scaled[stepwise_columns], \n",
    "                                                        y_train_scaled, cv = 5)), 3)"
   ]
  },
  {
   "cell_type": "code",
   "execution_count": 37,
   "metadata": {},
   "outputs": [],
   "source": [
    "stepwise_OLS = OLS(y_train_scaled, add_constant(X_train_scaled[stepwise_columns])).fit()\n",
    "\n",
    "stepwise_predictions = stepwise_OLS.predict(add_constant(X_subset_val[stepwise_columns]))\n",
    "stepwise_train_r2 = round(stepwise_OLS.rsquared, 3)\n",
    "\n",
    "stepwise_errors = y_subset_val - stepwise_predictions\n",
    "stepwise_val_r2 = round(r2_score(y_subset_val, stepwise_predictions), 3)"
   ]
  },
  {
   "cell_type": "code",
   "execution_count": 38,
   "metadata": {},
   "outputs": [
    {
     "name": "stdout",
     "output_type": "stream",
     "text": [
      "Stepwise Train R-Squared: 0.74\n",
      "Stepwise CV (5-Fold) Score R-Squared: 0.725\n",
      "Stepwise Validation Score R-Squared: 0.769\n"
     ]
    }
   ],
   "source": [
    "print ('Stepwise Train R-Squared:', round(stepwise_train_r2, 2))\n",
    "print ('Stepwise CV (5-Fold) Score R-Squared:', linreg_RFE_mean_score)\n",
    "print ('Stepwise Validation Score R-Squared:', stepwise_val_r2)"
   ]
  },
  {
   "cell_type": "code",
   "execution_count": 39,
   "metadata": {},
   "outputs": [],
   "source": [
    "update_model(all_model_summary_df, 'Stepwise', stepwise_OLS, [stepwise_train_r2, linreg_stepwise_mean_score, stepwise_val_r2])"
   ]
  },
  {
   "cell_type": "code",
   "execution_count": 40,
   "metadata": {},
   "outputs": [
    {
     "data": {
      "text/html": [
       "<div>\n",
       "<style scoped>\n",
       "    .dataframe tbody tr th:only-of-type {\n",
       "        vertical-align: middle;\n",
       "    }\n",
       "\n",
       "    .dataframe tbody tr th {\n",
       "        vertical-align: top;\n",
       "    }\n",
       "\n",
       "    .dataframe thead th {\n",
       "        text-align: right;\n",
       "    }\n",
       "</style>\n",
       "<table border=\"1\" class=\"dataframe\">\n",
       "  <thead>\n",
       "    <tr style=\"text-align: right;\">\n",
       "      <th></th>\n",
       "      <th>Linear_Regression_Models</th>\n",
       "      <th>Train_R2</th>\n",
       "      <th>CV_Avg_R2</th>\n",
       "      <th>Val_R2</th>\n",
       "      <th>AIC</th>\n",
       "      <th>n_features</th>\n",
       "      <th>&gt;0.05_pvalues</th>\n",
       "    </tr>\n",
       "  </thead>\n",
       "  <tbody>\n",
       "    <tr>\n",
       "      <th>0</th>\n",
       "      <td>Baseline</td>\n",
       "      <td>0.754</td>\n",
       "      <td>0.727</td>\n",
       "      <td>0.757</td>\n",
       "      <td>2352</td>\n",
       "      <td>60</td>\n",
       "      <td>32</td>\n",
       "    </tr>\n",
       "    <tr>\n",
       "      <th>1</th>\n",
       "      <td>Naive - Top Correlation</td>\n",
       "      <td>0.579</td>\n",
       "      <td>0.574</td>\n",
       "      <td>0.637</td>\n",
       "      <td>4238</td>\n",
       "      <td>6</td>\n",
       "      <td>1</td>\n",
       "    </tr>\n",
       "    <tr>\n",
       "      <th>2</th>\n",
       "      <td>Filter</td>\n",
       "      <td>0.705</td>\n",
       "      <td>0.68</td>\n",
       "      <td>0.73</td>\n",
       "      <td>3539</td>\n",
       "      <td>38</td>\n",
       "      <td>17</td>\n",
       "    </tr>\n",
       "    <tr>\n",
       "      <th>3</th>\n",
       "      <td>RFE</td>\n",
       "      <td>0.759</td>\n",
       "      <td>0.725</td>\n",
       "      <td>0.78</td>\n",
       "      <td>3153</td>\n",
       "      <td>59</td>\n",
       "      <td>26</td>\n",
       "    </tr>\n",
       "    <tr>\n",
       "      <th>4</th>\n",
       "      <td>Stepwise</td>\n",
       "      <td>0.739</td>\n",
       "      <td>0.727</td>\n",
       "      <td>0.769</td>\n",
       "      <td>3247</td>\n",
       "      <td>21</td>\n",
       "      <td>1</td>\n",
       "    </tr>\n",
       "    <tr>\n",
       "      <th>5</th>\n",
       "      <td>Lasso</td>\n",
       "      <td>NaN</td>\n",
       "      <td>NaN</td>\n",
       "      <td>NaN</td>\n",
       "      <td>NaN</td>\n",
       "      <td>NaN</td>\n",
       "      <td>NaN</td>\n",
       "    </tr>\n",
       "  </tbody>\n",
       "</table>\n",
       "</div>"
      ],
      "text/plain": [
       "  Linear_Regression_Models Train_R2 CV_Avg_R2 Val_R2   AIC n_features  \\\n",
       "0                 Baseline    0.754     0.727  0.757  2352         60   \n",
       "1  Naive - Top Correlation    0.579     0.574  0.637  4238          6   \n",
       "2                   Filter    0.705      0.68   0.73  3539         38   \n",
       "3                      RFE    0.759     0.725   0.78  3153         59   \n",
       "4                 Stepwise    0.739     0.727  0.769  3247         21   \n",
       "5                    Lasso      NaN       NaN    NaN   NaN        NaN   \n",
       "\n",
       "  >0.05_pvalues  \n",
       "0            32  \n",
       "1             1  \n",
       "2            17  \n",
       "3            26  \n",
       "4             1  \n",
       "5           NaN  "
      ]
     },
     "execution_count": 40,
     "metadata": {},
     "output_type": "execute_result"
    }
   ],
   "source": [
    "all_model_summary_df"
   ]
  },
  {
   "cell_type": "markdown",
   "metadata": {},
   "source": [
    "Now, this looks better than before with a less complex model, fairly reasonable test R2 and a manageable amount of features."
   ]
  },
  {
   "cell_type": "markdown",
   "metadata": {},
   "source": [
    "## 6. Lasso"
   ]
  },
  {
   "cell_type": "markdown",
   "metadata": {},
   "source": [
    "First we set the all the hyperparameters we are interested in tuning, primarily the 'penalizing' parameters (alpha). The GridSearch function will be able to obtain the best parameters for us by evaluating them using R2 score."
   ]
  },
  {
   "cell_type": "code",
   "execution_count": 41,
   "metadata": {},
   "outputs": [
    {
     "data": {
      "text/plain": [
       "{'alpha': 0.05}"
      ]
     },
     "execution_count": 41,
     "metadata": {},
     "output_type": "execute_result"
    }
   ],
   "source": [
    "model = Lasso()\n",
    "lasso_params = {'alpha' : [0.05, 0.1, 0.3, 1, 3, 5, 10, 15, 30, 50, 75]}\n",
    "\n",
    "grid_obj = GridSearchCV(estimator = model, \n",
    "                        param_grid = lasso_params, \n",
    "                        scoring = 'r2',\n",
    "                        cv = 5,\n",
    "                        n_jobs = -1)\n",
    "\n",
    "grid_obj = grid_obj.fit(X_train_scaled, y_train_scaled)\n",
    "grid_obj.best_params_"
   ]
  },
  {
   "cell_type": "markdown",
   "metadata": {},
   "source": [
    "Looks like the best alpha level is 0.05."
   ]
  },
  {
   "cell_type": "code",
   "execution_count": 42,
   "metadata": {},
   "outputs": [
    {
     "name": "stdout",
     "output_type": "stream",
     "text": [
      "Number of non-0 coef: 24\n",
      "Selected lasso coef:\n",
      " Poor_mental_health_days                             -0.002135\n",
      "Adult_smoking                                       -0.192318\n",
      "Adult_obesity                                       -0.008558\n",
      "Physical_inactivity                                 -0.088565\n",
      "Sexually_transmitted_infections                     -0.081741\n",
      "Preventable_hospital_stays                          -0.030938\n",
      "Mammography_screening                                0.018110\n",
      "Children_in_poverty                                 -0.058808\n",
      "Children_in_single-parent_households                -0.008361\n",
      "Violent_crime                                       -0.001851\n",
      "Air_pollution_-_particulate_matter                  -0.028213\n",
      "Driving_alone_to_work                               -0.093056\n",
      "Child_mortality                                     -0.065782\n",
      "Frequent_mental_distress                            -0.085174\n",
      "Diabetes_prevalence                                 -0.019556\n",
      "Food_insecurity                                     -0.018751\n",
      "Drug_overdose_deaths                                -0.092644\n",
      "Motor_vehicle_crash_deaths                          -0.141176\n",
      "Other_primary_care_providers                        -0.005031\n",
      "Median_household_income                              0.062217\n",
      "Children_eligible_for_free_or_reduced_price_lunch   -0.049418\n",
      "Firearm_fatalities                                  -0.053409\n",
      "%_not_proficient_in_English                          0.072765\n",
      "%_Females                                           -0.005030\n",
      "dtype: float64\n"
     ]
    }
   ],
   "source": [
    "final_lasso = grid_obj.best_estimator_.fit(X_train_scaled, y_train_scaled)\n",
    "lasso_coef = pd.Series(final_lasso.coef_, index = X_train_scaled.columns)\n",
    "lasso_coef = lasso_coef[lasso_coef != 0]\n",
    "\n",
    "print ('Number of non-0 coef:', len(lasso_coef))\n",
    "print ('Selected lasso coef:\\n', lasso_coef)"
   ]
  },
  {
   "cell_type": "code",
   "execution_count": 43,
   "metadata": {},
   "outputs": [],
   "source": [
    "linreg_lasso = LinearRegression()\n",
    "linreg_lasso_mean_score = round(np.mean(cross_val_score(linreg_lasso, \n",
    "                                                        X_train_scaled[lasso_coef.index], \n",
    "                                                        y_train_scaled, cv = 5)), 3)"
   ]
  },
  {
   "cell_type": "code",
   "execution_count": 44,
   "metadata": {},
   "outputs": [],
   "source": [
    "Lasso_OLS = OLS(y_train_scaled, add_constant(X_train_scaled[lasso_coef.index])).fit()\n",
    "\n",
    "Lasso_predictions = Lasso_OLS.predict(add_constant(X_subset_val[lasso_coef.index]))\n",
    "Lasso_train_r2 = round(Lasso_OLS.rsquared, 3)\n",
    "\n",
    "Lasso_errors = y_subset_val - Lasso_predictions\n",
    "Lasso_val_r2 = round(r2_score(y_subset_val, Lasso_predictions), 3)"
   ]
  },
  {
   "cell_type": "code",
   "execution_count": 45,
   "metadata": {},
   "outputs": [
    {
     "name": "stdout",
     "output_type": "stream",
     "text": [
      "Lasso Train R-Squared: 0.73\n",
      "Lasso CV (5-Fold) Score R-Squared: 0.716\n",
      "Lasso Validation Score R-Squared: 0.754\n"
     ]
    }
   ],
   "source": [
    "print ('Lasso Train R-Squared:', round(Lasso_train_r2, 2))\n",
    "print ('Lasso CV (5-Fold) Score R-Squared:', linreg_lasso_mean_score)\n",
    "print ('Lasso Validation Score R-Squared:', Lasso_val_r2)"
   ]
  },
  {
   "cell_type": "code",
   "execution_count": 46,
   "metadata": {},
   "outputs": [],
   "source": [
    "update_model(all_model_summary_df, 'Lasso', Lasso_OLS, [Lasso_train_r2, linreg_lasso_mean_score, Lasso_val_r2])"
   ]
  },
  {
   "cell_type": "code",
   "execution_count": 47,
   "metadata": {},
   "outputs": [
    {
     "data": {
      "text/html": [
       "<div>\n",
       "<style scoped>\n",
       "    .dataframe tbody tr th:only-of-type {\n",
       "        vertical-align: middle;\n",
       "    }\n",
       "\n",
       "    .dataframe tbody tr th {\n",
       "        vertical-align: top;\n",
       "    }\n",
       "\n",
       "    .dataframe thead th {\n",
       "        text-align: right;\n",
       "    }\n",
       "</style>\n",
       "<table border=\"1\" class=\"dataframe\">\n",
       "  <thead>\n",
       "    <tr style=\"text-align: right;\">\n",
       "      <th></th>\n",
       "      <th>Linear_Regression_Models</th>\n",
       "      <th>Train_R2</th>\n",
       "      <th>CV_Avg_R2</th>\n",
       "      <th>Val_R2</th>\n",
       "      <th>AIC</th>\n",
       "      <th>n_features</th>\n",
       "      <th>&gt;0.05_pvalues</th>\n",
       "    </tr>\n",
       "  </thead>\n",
       "  <tbody>\n",
       "    <tr>\n",
       "      <th>0</th>\n",
       "      <td>Baseline</td>\n",
       "      <td>0.754</td>\n",
       "      <td>0.727</td>\n",
       "      <td>0.757</td>\n",
       "      <td>2352</td>\n",
       "      <td>60</td>\n",
       "      <td>32</td>\n",
       "    </tr>\n",
       "    <tr>\n",
       "      <th>1</th>\n",
       "      <td>Naive - Top Correlation</td>\n",
       "      <td>0.579</td>\n",
       "      <td>0.574</td>\n",
       "      <td>0.637</td>\n",
       "      <td>4238</td>\n",
       "      <td>6</td>\n",
       "      <td>1</td>\n",
       "    </tr>\n",
       "    <tr>\n",
       "      <th>2</th>\n",
       "      <td>Filter</td>\n",
       "      <td>0.705</td>\n",
       "      <td>0.68</td>\n",
       "      <td>0.73</td>\n",
       "      <td>3539</td>\n",
       "      <td>38</td>\n",
       "      <td>17</td>\n",
       "    </tr>\n",
       "    <tr>\n",
       "      <th>3</th>\n",
       "      <td>RFE</td>\n",
       "      <td>0.759</td>\n",
       "      <td>0.725</td>\n",
       "      <td>0.78</td>\n",
       "      <td>3153</td>\n",
       "      <td>59</td>\n",
       "      <td>26</td>\n",
       "    </tr>\n",
       "    <tr>\n",
       "      <th>4</th>\n",
       "      <td>Stepwise</td>\n",
       "      <td>0.739</td>\n",
       "      <td>0.727</td>\n",
       "      <td>0.769</td>\n",
       "      <td>3247</td>\n",
       "      <td>21</td>\n",
       "      <td>1</td>\n",
       "    </tr>\n",
       "    <tr>\n",
       "      <th>5</th>\n",
       "      <td>Lasso</td>\n",
       "      <td>0.728</td>\n",
       "      <td>0.716</td>\n",
       "      <td>0.754</td>\n",
       "      <td>3342</td>\n",
       "      <td>25</td>\n",
       "      <td>8</td>\n",
       "    </tr>\n",
       "  </tbody>\n",
       "</table>\n",
       "</div>"
      ],
      "text/plain": [
       "  Linear_Regression_Models Train_R2 CV_Avg_R2 Val_R2   AIC n_features  \\\n",
       "0                 Baseline    0.754     0.727  0.757  2352         60   \n",
       "1  Naive - Top Correlation    0.579     0.574  0.637  4238          6   \n",
       "2                   Filter    0.705      0.68   0.73  3539         38   \n",
       "3                      RFE    0.759     0.725   0.78  3153         59   \n",
       "4                 Stepwise    0.739     0.727  0.769  3247         21   \n",
       "5                    Lasso    0.728     0.716  0.754  3342         25   \n",
       "\n",
       "  >0.05_pvalues  \n",
       "0            32  \n",
       "1             1  \n",
       "2            17  \n",
       "3            26  \n",
       "4             1  \n",
       "5             8  "
      ]
     },
     "execution_count": 47,
     "metadata": {},
     "output_type": "execute_result"
    }
   ],
   "source": [
    "all_model_summary_df"
   ]
  },
  {
   "cell_type": "markdown",
   "metadata": {},
   "source": [
    "# Model Evaluation & Selection - Stepwise Selection"
   ]
  },
  {
   "cell_type": "markdown",
   "metadata": {},
   "source": [
    "Okay, looking purely by R2 scores, model complexity and optimum number of features, we have decided to go for the Stepwise model. However we will still need to check if the model fits the regression assumptions. First let check for multicollinearity using the VIF metric. "
   ]
  },
  {
   "cell_type": "code",
   "execution_count": 48,
   "metadata": {},
   "outputs": [
    {
     "data": {
      "text/html": [
       "<div>\n",
       "<style scoped>\n",
       "    .dataframe tbody tr th:only-of-type {\n",
       "        vertical-align: middle;\n",
       "    }\n",
       "\n",
       "    .dataframe tbody tr th {\n",
       "        vertical-align: top;\n",
       "    }\n",
       "\n",
       "    .dataframe thead th {\n",
       "        text-align: right;\n",
       "    }\n",
       "</style>\n",
       "<table border=\"1\" class=\"dataframe\">\n",
       "  <thead>\n",
       "    <tr style=\"text-align: right;\">\n",
       "      <th></th>\n",
       "      <th>variables</th>\n",
       "      <th>VIF</th>\n",
       "    </tr>\n",
       "  </thead>\n",
       "  <tbody>\n",
       "    <tr>\n",
       "      <th>0</th>\n",
       "      <td>Adult_smoking</td>\n",
       "      <td>2.983273</td>\n",
       "    </tr>\n",
       "    <tr>\n",
       "      <th>1</th>\n",
       "      <td>Motor_vehicle_crash_deaths</td>\n",
       "      <td>1.946758</td>\n",
       "    </tr>\n",
       "    <tr>\n",
       "      <th>2</th>\n",
       "      <td>Drug_overdose_deaths</td>\n",
       "      <td>1.157203</td>\n",
       "    </tr>\n",
       "    <tr>\n",
       "      <th>3</th>\n",
       "      <td>Driving_alone_to_work</td>\n",
       "      <td>1.815198</td>\n",
       "    </tr>\n",
       "    <tr>\n",
       "      <th>4</th>\n",
       "      <td>Sexually_transmitted_infections</td>\n",
       "      <td>1.811231</td>\n",
       "    </tr>\n",
       "    <tr>\n",
       "      <th>5</th>\n",
       "      <td>Median_household_income</td>\n",
       "      <td>2.937060</td>\n",
       "    </tr>\n",
       "    <tr>\n",
       "      <th>6</th>\n",
       "      <td>Child_mortality</td>\n",
       "      <td>1.591696</td>\n",
       "    </tr>\n",
       "    <tr>\n",
       "      <th>7</th>\n",
       "      <td>Firearm_fatalities</td>\n",
       "      <td>1.460519</td>\n",
       "    </tr>\n",
       "    <tr>\n",
       "      <th>8</th>\n",
       "      <td>Air_pollution_-_particulate_matter</td>\n",
       "      <td>1.685923</td>\n",
       "    </tr>\n",
       "    <tr>\n",
       "      <th>9</th>\n",
       "      <td>%_not_proficient_in_English</td>\n",
       "      <td>2.127171</td>\n",
       "    </tr>\n",
       "    <tr>\n",
       "      <th>10</th>\n",
       "      <td>Percentage_of_households_with_overcrowding</td>\n",
       "      <td>2.240260</td>\n",
       "    </tr>\n",
       "    <tr>\n",
       "      <th>11</th>\n",
       "      <td>%_Rural</td>\n",
       "      <td>2.175281</td>\n",
       "    </tr>\n",
       "    <tr>\n",
       "      <th>12</th>\n",
       "      <td>Mammography_screening</td>\n",
       "      <td>1.607399</td>\n",
       "    </tr>\n",
       "    <tr>\n",
       "      <th>13</th>\n",
       "      <td>Preventable_hospital_stays</td>\n",
       "      <td>1.424844</td>\n",
       "    </tr>\n",
       "    <tr>\n",
       "      <th>14</th>\n",
       "      <td>Children_eligible_for_free_or_reduced_price_lunch</td>\n",
       "      <td>2.219346</td>\n",
       "    </tr>\n",
       "    <tr>\n",
       "      <th>15</th>\n",
       "      <td>Other_primary_care_providers</td>\n",
       "      <td>1.192514</td>\n",
       "    </tr>\n",
       "    <tr>\n",
       "      <th>16</th>\n",
       "      <td>Physical_inactivity</td>\n",
       "      <td>2.461534</td>\n",
       "    </tr>\n",
       "    <tr>\n",
       "      <th>17</th>\n",
       "      <td>County_Ranked_(Yes=1/No=0)</td>\n",
       "      <td>1.212040</td>\n",
       "    </tr>\n",
       "    <tr>\n",
       "      <th>18</th>\n",
       "      <td>%_Females</td>\n",
       "      <td>1.336753</td>\n",
       "    </tr>\n",
       "    <tr>\n",
       "      <th>19</th>\n",
       "      <td>Some_college</td>\n",
       "      <td>3.027579</td>\n",
       "    </tr>\n",
       "    <tr>\n",
       "      <th>20</th>\n",
       "      <td>Intercept</td>\n",
       "      <td>1.000000</td>\n",
       "    </tr>\n",
       "  </tbody>\n",
       "</table>\n",
       "</div>"
      ],
      "text/plain": [
       "                                            variables       VIF\n",
       "0                                       Adult_smoking  2.983273\n",
       "1                          Motor_vehicle_crash_deaths  1.946758\n",
       "2                                Drug_overdose_deaths  1.157203\n",
       "3                               Driving_alone_to_work  1.815198\n",
       "4                     Sexually_transmitted_infections  1.811231\n",
       "5                             Median_household_income  2.937060\n",
       "6                                     Child_mortality  1.591696\n",
       "7                                  Firearm_fatalities  1.460519\n",
       "8                  Air_pollution_-_particulate_matter  1.685923\n",
       "9                         %_not_proficient_in_English  2.127171\n",
       "10         Percentage_of_households_with_overcrowding  2.240260\n",
       "11                                            %_Rural  2.175281\n",
       "12                              Mammography_screening  1.607399\n",
       "13                         Preventable_hospital_stays  1.424844\n",
       "14  Children_eligible_for_free_or_reduced_price_lunch  2.219346\n",
       "15                       Other_primary_care_providers  1.192514\n",
       "16                                Physical_inactivity  2.461534\n",
       "17                         County_Ranked_(Yes=1/No=0)  1.212040\n",
       "18                                          %_Females  1.336753\n",
       "19                                       Some_college  3.027579\n",
       "20                                          Intercept  1.000000"
      ]
     },
     "execution_count": 48,
     "metadata": {},
     "output_type": "execute_result"
    }
   ],
   "source": [
    "stepwise_baseline = X_train_scaled[stepwise_columns]\n",
    "stepwise_baseline['Intercept'] = 1\n",
    "\n",
    "stepwise_VIF = pd.DataFrame()\n",
    "stepwise_VIF[\"variables\"] = stepwise_baseline.columns\n",
    "stepwise_VIF[\"VIF\"] = [variance_inflation_factor(stepwise_baseline.values, i) for i in range(stepwise_baseline.shape[1])]\n",
    "\n",
    "stepwise_VIF"
   ]
  },
  {
   "cell_type": "markdown",
   "metadata": {},
   "source": [
    "Cool, since no features are more than 10, multicollinearity is not a big concern here. Next we check for homoscedasticity by plotting the residuals."
   ]
  },
  {
   "cell_type": "code",
   "execution_count": 49,
   "metadata": {},
   "outputs": [
    {
     "data": {
      "image/png": "[encoded data removed]",
      "text/plain": [
       "<Figure size 1080x720 with 1 Axes>"
      ]
     },
     "metadata": {
      "needs_background": "light"
     },
     "output_type": "display_data"
    }
   ],
   "source": [
    "stepwise_updated = X_train_scaled[stepwise_columns]\n",
    "stepwise_updated.insert(0, 'const', 1)\n",
    "\n",
    "stepwise_OLS.predict(stepwise_updated)\n",
    "len(stepwise_OLS.resid)\n",
    "\n",
    "plt.figure(figsize = (15,10))\n",
    "plt.scatter(stepwise_OLS.predict(stepwise_updated), stepwise_OLS.resid)\n",
    "plt.plot(stepwise_OLS.predict(stepwise_updated), [0 for i in range(len(X_train_scaled))], color = 'r')\n",
    "plt.show()"
   ]
  },
  {
   "cell_type": "markdown",
   "metadata": {},
   "source": [
    "This looks fine with no concerning trends. No we look at the normality of the errors using the QQ plot and distribution of errors"
   ]
  },
  {
   "cell_type": "code",
   "execution_count": 50,
   "metadata": {},
   "outputs": [
    {
     "data": {
      "image/png": "[encoded data removed]",
      "text/plain": [
       "<Figure size 432x288 with 1 Axes>"
      ]
     },
     "metadata": {
      "needs_background": "light"
     },
     "output_type": "display_data"
    }
   ],
   "source": [
    "residuals = stepwise_OLS.resid\n",
    "fig = stats.probplot(residuals, dist=\"norm\", plot=pylab)"
   ]
  },
  {
   "cell_type": "markdown",
   "metadata": {},
   "source": [
    "Whilst majority of the points still lie on the line between -2 and 2, visually this is still not ideal which is likely caused by outliers. Let's investigate the outliers for the target and see if there are any significant changes between quantiles/"
   ]
  },
  {
   "cell_type": "code",
   "execution_count": 51,
   "metadata": {},
   "outputs": [
    {
     "name": "stdout",
     "output_type": "stream",
     "text": [
      "0.0 -5.0\n",
      "0.01 -2.37\n",
      "0.02 -2.08\n",
      "0.03 -1.86\n",
      "0.04 -1.71\n",
      "0.05 -1.58\n",
      "0.06 -1.49\n",
      "0.07 -1.43\n",
      "0.08 -1.36\n",
      "0.09 -1.3\n",
      "0.1 -1.23\n"
     ]
    }
   ],
   "source": [
    "updated_scaled = X_train_scaled\n",
    "updated_scaled['Life_expectancy'] = y_train_scaled\n",
    "\n",
    "list_range = np.linspace(0, 0.1, 11)\n",
    "for i in list_range:\n",
    "    print (round(i, 5), round(updated_scaled.Life_expectancy.quantile(i),2))"
   ]
  },
  {
   "cell_type": "code",
   "execution_count": 52,
   "metadata": {},
   "outputs": [
    {
     "data": {
      "image/png": "[encoded data removed]",
      "text/plain": [
       "<Figure size 432x288 with 1 Axes>"
      ]
     },
     "metadata": {
      "needs_background": "light"
     },
     "output_type": "display_data"
    }
   ],
   "source": [
    "to_use_scaled = updated_scaled[(updated_scaled.Life_expectancy < 1.5) & (updated_scaled.Life_expectancy > -1.5)]\n",
    "to_use_x_train_scaled = to_use_scaled.drop(['Life_expectancy'], axis = 1)\n",
    "to_use_y_train_scaled = to_use_scaled.Life_expectancy\n",
    "\n",
    "stepwise_OLS_scaled_outliers = OLS(to_use_y_train_scaled, to_use_x_train_scaled[stepwise_columns]).fit()\n",
    "residuals_outlier = stepwise_OLS_scaled_outliers.resid\n",
    "stats.probplot(residuals_outlier, dist=\"norm\", plot=pylab)\n",
    "pylab.show()"
   ]
  },
  {
   "cell_type": "code",
   "execution_count": 53,
   "metadata": {},
   "outputs": [
    {
     "data": {
      "image/png": "[encoded data removed]",
      "text/plain": [
       "<Figure size 1080x720 with 1 Axes>"
      ]
     },
     "metadata": {
      "needs_background": "light"
     },
     "output_type": "display_data"
    }
   ],
   "source": [
    "stepwise_OLS_scaled_outliers.params.sort_values().plot(kind = 'barh', figsize = (15,10), cmap = 'Accent')\n",
    "plt.show()"
   ]
  },
  {
   "cell_type": "markdown",
   "metadata": {},
   "source": [
    "# Testing on Test Dataset"
   ]
  },
  {
   "cell_type": "code",
   "execution_count": 54,
   "metadata": {},
   "outputs": [
    {
     "name": "stdout",
     "output_type": "stream",
     "text": [
      "Test R2 of: 68.0 %\n"
     ]
    }
   ],
   "source": [
    "stepwise_OLS = OLS(y_train_scaled, add_constant(X_train_scaled[stepwise_columns])).fit()\n",
    "\n",
    "stepwise_test_predictions = stepwise_OLS.predict(add_constant(X_test_scaled[stepwise_columns]))\n",
    "print ('Test R2 of:', round(r2_score(y_test_scaled, stepwise_test_predictions), 2) * 100, '%')"
   ]
  },
  {
   "cell_type": "markdown",
   "metadata": {},
   "source": [
    "# Conclusion and future work\n",
    "\n",
    "To conclude, it is important to emphasize that whilst we have chosen the model above, there are many other methods out there which may result in a better model. That said, the above model should at least provide our end user with the crucial indicators for estimating life expectancy.\n",
    "\n",
    "For future work and to further improve the R2 score, we will look to:\n",
    "- investigate performance of forward / backward selection, Ridge regression, interactions and polynomials\n",
    "- user other models apart from OLS, ie RF, CART, etc"
   ]
  }
 ],
 "metadata": {
  "kernelspec": {
   "display_name": "Python 3",
   "language": "python",
   "name": "python3"
  },
  "language_info": {
   "codemirror_mode": {
    "name": "ipython",
    "version": 3
   },
   "file_extension": ".py",
   "mimetype": "text/x-python",
   "name": "python",
   "nbconvert_exporter": "python",
   "pygments_lexer": "ipython3",
   "version": "3.6.6"
  }
 },
 "nbformat": 4,
 "nbformat_minor": 2
}
